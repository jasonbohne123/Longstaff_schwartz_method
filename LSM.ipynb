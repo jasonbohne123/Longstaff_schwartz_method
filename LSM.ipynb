{
 "cells": [
  {
   "cell_type": "markdown",
   "id": "30627df0-8566-4584-8dc4-ec61f5d70d25",
   "metadata": {},
   "source": [
    "### Python Code for LSM Algorithm: American Option Pricing"
   ]
  },
  {
   "cell_type": "code",
   "execution_count": 27,
   "id": "f0d6c6cb-1ef6-4102-82d7-6449a071367f",
   "metadata": {},
   "outputs": [],
   "source": [
    "import numpy as np\n",
    "import math\n",
    "from scipy.special import eval_laguerre\n",
    "import matplotlib.pyplot as plt"
   ]
  },
  {
   "cell_type": "code",
   "execution_count": null,
   "id": "ad5d259f-c37d-448c-b504-440f2b7652a6",
   "metadata": {},
   "outputs": [],
   "source": []
  },
  {
   "cell_type": "code",
   "execution_count": 10,
   "id": "c74243e5-4c2e-4180-9af9-79f48f8dbe08",
   "metadata": {},
   "outputs": [],
   "source": [
    "def laguerre_basis(x,degree):\n",
    "    '''\n",
    "    \n",
    "    Generate a basis of Laguerre Polynomials on X of degree k using built-in scipy functionality\n",
    "    \n",
    "    https://docs.scipy.org/doc/scipy/reference/generated/scipy.special.eval_laguerre.html#scipy.special.eval_laguerre\n",
    "    \n",
    "    Allows for computation of higher order than degree 5 (orig blocker)\n",
    "    \n",
    "    '''\n",
    "    elem=[]\n",
    "    for i in range (0,degree+1):\n",
    "        laguerre_i=eval_laguerre(i,x)\n",
    "        elem.append(laguerre_i)\n",
    "    basis=np.array(elem).reshape(i+1,len(x)).T\n",
    "    return basis\n",
    "                                "
   ]
  },
  {
   "cell_type": "markdown",
   "id": "def846b6-b5fc-4258-b307-b6cb559ed83e",
   "metadata": {},
   "source": [
    "### Investigate numerical issues when computing basis values"
   ]
  },
  {
   "cell_type": "code",
   "execution_count": 14,
   "id": "f02e3c3b-dd23-4364-a1d3-3a778c1993c0",
   "metadata": {},
   "outputs": [],
   "source": [
    "def internal_laguerre_basis(x,degree):\n",
    "    '''\n",
    "    \n",
    "    Generate a basis of Laguerre Polynomials on X of degree k using built-in scipy functionality\n",
    "    \n",
    "    https://docs.scipy.org/doc/scipy/reference/generated/scipy.special.eval_laguerre.html#scipy.special.eval_laguerre\n",
    "    \n",
    "    Allows for computation of higher order than degree 5 (orig blocker)\n",
    "    \n",
    "    '''\n",
    "    if degree!=2:\n",
    "        return None\n",
    "    else:\n",
    "        basis=np.concatenate([np.ones(len(x)),1-x,0.5*(2-4*x+x**2)]).reshape(degree+1,len(x)).T\n",
    "        \n",
    "    return basis"
   ]
  },
  {
   "cell_type": "code",
   "execution_count": 15,
   "id": "e9422074-8feb-4ff7-af9d-84b8e9fe7267",
   "metadata": {},
   "outputs": [],
   "source": [
    "a=np.random.rand(1000)\n"
   ]
  },
  {
   "cell_type": "code",
   "execution_count": 16,
   "id": "4310cb54-b99d-4b96-b096-786a829c27ce",
   "metadata": {},
   "outputs": [],
   "source": [
    "b=internal_laguerre_basis(a,2)\n"
   ]
  },
  {
   "cell_type": "code",
   "execution_count": 17,
   "id": "fc37d1d7-c6ef-4df3-b344-cb385886da48",
   "metadata": {},
   "outputs": [],
   "source": [
    "basis=laguerre_basis(a,2)\n"
   ]
  },
  {
   "cell_type": "code",
   "execution_count": 18,
   "id": "12e88bcd-07d2-4776-8dfd-204532d4939c",
   "metadata": {},
   "outputs": [
    {
     "data": {
      "text/plain": [
       "9.131584377541913e-15"
      ]
     },
     "execution_count": 18,
     "metadata": {},
     "output_type": "execute_result"
    }
   ],
   "source": [
    "np.sum(abs(b-basis))"
   ]
  },
  {
   "cell_type": "markdown",
   "id": "09dfb98b-49af-48ad-9887-5639c30a273f",
   "metadata": {},
   "source": [
    "### Example Laguerre Basis (scipy)"
   ]
  },
  {
   "cell_type": "code",
   "execution_count": 19,
   "id": "8bf457bd-6add-47b5-8bd0-14d7298a534d",
   "metadata": {},
   "outputs": [
    {
     "data": {
      "text/plain": [
       "array([[ 1.        ,  0.        , -0.5       , -0.66666667, -0.625     ],\n",
       "       [ 1.        ,  0.        , -0.5       , -0.66666667, -0.625     ],\n",
       "       [ 1.        ,  0.        , -0.5       , -0.66666667, -0.625     ],\n",
       "       [ 1.        ,  0.        , -0.5       , -0.66666667, -0.625     ],\n",
       "       [ 1.        ,  0.        , -0.5       , -0.66666667, -0.625     ],\n",
       "       [ 1.        ,  0.        , -0.5       , -0.66666667, -0.625     ],\n",
       "       [ 1.        ,  0.        , -0.5       , -0.66666667, -0.625     ],\n",
       "       [ 1.        ,  0.        , -0.5       , -0.66666667, -0.625     ],\n",
       "       [ 1.        ,  0.        , -0.5       , -0.66666667, -0.625     ],\n",
       "       [ 1.        ,  0.        , -0.5       , -0.66666667, -0.625     ]])"
      ]
     },
     "execution_count": 19,
     "metadata": {},
     "output_type": "execute_result"
    }
   ],
   "source": [
    "basis=laguerre_basis(np.ones(10),4)\n",
    "basis\n"
   ]
  },
  {
   "cell_type": "code",
   "execution_count": null,
   "id": "257775e0-b141-4193-96ce-695000aa1398",
   "metadata": {},
   "outputs": [],
   "source": []
  },
  {
   "cell_type": "markdown",
   "id": "ee42596c-6e79-4263-a923-891c0d382b69",
   "metadata": {},
   "source": [
    "### Investigate in OLS solvers between numpy and matlab"
   ]
  },
  {
   "cell_type": "code",
   "execution_count": null,
   "id": "8cdf0d98-9cce-40b0-b0b7-1315dcf62dd6",
   "metadata": {},
   "outputs": [],
   "source": []
  },
  {
   "cell_type": "markdown",
   "id": "d07521a8-24e5-4794-98b7-987e0e0a408d",
   "metadata": {},
   "source": [
    "### Algorithm\n",
    "\n",
    "General understanding of the idea atm\n",
    "\n",
    "- Use of Brownian motion to generate endpoints (interpret probability distribution of outcomes)\n",
    "- Assume a brownian bridge to occur at each endpoint (constrains starting point to be same as end point, 0 when standardardized) \n",
    "    - Sample Brownian Bridge backwards in time; note intermediate points follow a distribution according to the original brownian motion\n",
    "- For each itm brownian bridge at time $t_i$ compute it's current exercise value in relation to continuation\n",
    "- Payoff matrix is saved as \n",
    "    - Exercise Value if is newly decided to be an optimally executed\n",
    "    - Discounted final payoff else\n",
    "    \n",
    "- Each iteration we then either\n",
    "    - Discount the optimal exercise value\n",
    "    - Continue discounting the final payoff\n",
    "    \n",
    "- Note style of dynamic programming is embedded within the backwards iteration\n",
    "- \"rest\" matrix only accounts for realizations that are new to optimally exercise\n",
    "- Say instead this was a global array; what we would do is not update exercise values prior to latest optimal exercise; skewing the current value and ignoring dp step"
   ]
  },
  {
   "cell_type": "code",
   "execution_count": 21,
   "id": "8bc7a261-ee37-4f54-870b-43480c0eb563",
   "metadata": {},
   "outputs": [],
   "source": [
    "def LSM(T,r,sigma,K,S0,N,M,k,seed=1234):\n",
    "    '''\n",
    "    Longstaff-schwartz method: Gustafsson Implementation\n",
    "    \n",
    "    T: Expiration Time \n",
    "    r: interest rate\n",
    "    sigma: underlying vol\n",
    "    K: strike\n",
    "    S0: inital underlying\n",
    "    N: # timesteps from t=0 to t=T\n",
    "    M: # realizations (even)\n",
    "    k: basis functions\n",
    "    seed: random seed for reproducibility\n",
    "    '''\n",
    "    \n",
    "    np.random.seed(seed)\n",
    "    t=np.arange(0,T,T/N)\n",
    "   \n",
    "    z=np.random.normal(size=(math.floor(M/2),1))\n",
    "    w=(r-(sigma**2/2))*T+sigma*np.sqrt(T)*np.vstack([z,-z]) # underlying appreciates at rate w \n",
    "    S=S0*np.exp(w) # endpoints \n",
    "    \n",
    "    P=np.maximum.reduce([K-S,np.zeros(S.shape)]).reshape(1,-1)[0] # payoffs\n",
    "    \n",
    "    for i in range(N-2,0,-1): #step backwards in time from indices to start\n",
    "        \n",
    "       \n",
    "        z=np.random.normal(size=(math.floor(M/2),1))\n",
    "        \n",
    "        # brownian bridge sampling \n",
    "        w=(t[i]*w)/t[i+1] +sigma*np.sqrt((T/N)*t[i]/t[i+1])*np.vstack([z,-z])\n",
    "        \n",
    "        S=S0*np.exp(w) # simulate backwards one time step \n",
    "        \n",
    "        itmP=np.where(K>S)[0] # numerical indices of paths itm -> later mapped to brownian bridges \n",
    "\n",
    "        \n",
    "        X=S[itmP].reshape(1,-1)[0] # price realizations that are itm \n",
    "        \n",
    "        \n",
    "        Y=P[itmP]*np.exp(-r*T/N).reshape(1,-1)[0] # discounted payoffs itm\n",
    "        \n",
    "        A=laguerre_basis(X,k) # generate basis functions operated on itm prices \n",
    "        \n",
    "        x,resid,rank,s=np.linalg.lstsq(A,Y,rcond=None) \n",
    "      \n",
    "        \n",
    "        # regression using ols\n",
    "        # assumes discounted payoffs is linear in laguerre functions\n",
    "        \n",
    "        C=A.dot(x.reshape(1,-1)[0])\n",
    "        \n",
    "        # for each itm price compute it's LS estimated continuation\n",
    "        # note this isn't true continuation value just an estimate \n",
    "        \n",
    "        \n",
    "        E=(K-X) # immediate exercise value of itm options\n",
    "        \n",
    "        exP=np.where(C<E)[0] #  numerical indices of itmp options better to immediate exercise\n",
    "        itmP_exP=itmP[exP] # respective indices in original paths \n",
    "        \n",
    "        \n",
    "        rest=np.setdiff1d(np.arange(0,M),itmP_exP) # the new realizations in which it is optimal to exercise \n",
    "        \n",
    "        P[itmP_exP]= E[exP] # set payoff for paths where we exercised\n",
    "        \n",
    "        P[rest]=P[rest]*np.exp(-r*T/N) # discount asset and iterate backwards for continuation\n",
    "        \n",
    "        \n",
    "    u=np.mean(P*np.exp(-r*T/N)) # option value\n",
    "    \n",
    "    return u"
   ]
  },
  {
   "cell_type": "markdown",
   "id": "84788bf6-f9b1-4ec5-89e4-852fe3ee64db",
   "metadata": {},
   "source": [
    "### Comparison against Gustaffson Tests"
   ]
  },
  {
   "cell_type": "code",
   "execution_count": 25,
   "id": "4197317e-461f-4ca7-811f-0508eddce8bd",
   "metadata": {},
   "outputs": [
    {
     "name": "stdout",
     "output_type": "stream",
     "text": [
      "Average for 10 is 10.463822102647045\n",
      "Average for 15 is 10.561081454549802\n",
      "Average for 20 is 10.651781616217406\n",
      "Average for 25 is 10.63685137394201\n",
      "Average for 30 is 10.632998013279535\n",
      "Average for 35 is 10.66162621439734\n",
      "Average for 40 is 10.67990514665974\n",
      "Average for 45 is 10.740693007678402\n",
      "Average for 50 is 10.752426214030763\n",
      "Average for 55 is 10.77907510820276\n",
      "Average for 60 is 10.77520783509466\n",
      "Average for 65 is 10.789778698523058\n",
      "Average for 70 is 10.789906553607826\n",
      "Average for 75 is 10.78522981263383\n",
      "Average for 80 is 10.792925325648866\n",
      "Average for 85 is 10.786245223579762\n",
      "Average for 90 is 10.765526874002754\n",
      "Average for 95 is 10.736185063293197\n",
      "Average for 100 is 10.725147755008598\n",
      "Average for 105 is 10.699945426298342\n",
      "Average for 110 is 10.739090891767916\n",
      "Average for 115 is 10.756128893374326\n",
      "Average for 120 is 10.760682100155895\n",
      "Average for 125 is 10.769223675923234\n",
      "Average for 130 is 10.774470639654924\n",
      "Average for 135 is 10.7798175196642\n",
      "Average for 140 is 10.778674415457061\n",
      "Average for 145 is 10.768427055233486\n",
      "Average for 150 is 10.741446883717828\n",
      "Average for 155 is 10.745794499266841\n",
      "Average for 160 is 10.750393100397131\n",
      "Average for 165 is 10.742344846247022\n",
      "Average for 170 is 10.73968574871777\n",
      "Average for 175 is 10.746475733860217\n",
      "Average for 180 is 10.755581945972088\n",
      "Average for 185 is 10.750484176121057\n",
      "Average for 190 is 10.763610067474303\n",
      "Average for 195 is 10.763127309532095\n",
      "Average for 200 is 10.778782174325599\n"
     ]
    }
   ],
   "source": [
    "T=1\n",
    "r=0.03\n",
    "sigma=0.15\n",
    "K=100\n",
    "S0=90\n",
    "N=[10+i*5 for i in range(0,39)]\n",
    "M=10000\n",
    "k=[2,3,4]\n",
    "\n",
    "vals=[]\n",
    "for t in N:\n",
    "    bs=[]\n",
    "    for b in k:\n",
    "        \n",
    "        lsm=LSM(T,r,sigma,K,S0,t,M,b)\n",
    "        vals.append(lsm)\n",
    "        bs.append(lsm)\n",
    "    print(f\"Average for {t} is {np.mean(bs)}\")\n",
    "    bs=[]\n",
    "ans=np.mean(vals)\n"
   ]
  },
  {
   "cell_type": "code",
   "execution_count": 31,
   "id": "cab208f2-c121-46c5-9706-6bb83848e2ef",
   "metadata": {},
   "outputs": [
    {
     "data": {
      "image/png": "[encoded data removed]",
      "text/plain": [
       "<Figure size 640x480 with 1 Axes>"
      ]
     },
     "metadata": {},
     "output_type": "display_data"
    }
   ],
   "source": [
    "b=plt.hist(vals,bins=20)"
   ]
  },
  {
   "cell_type": "code",
   "execution_count": 34,
   "id": "6db8ab19-7a92-42c9-9357-548b488cbc9b",
   "metadata": {},
   "outputs": [
    {
     "name": "stdout",
     "output_type": "stream",
     "text": [
      "Average for 10 is 4.63910182666329\n",
      "Average for 15 is 4.6944619654837645\n",
      "Average for 20 is 4.716257476810723\n",
      "Average for 25 is 4.734027704927118\n",
      "Average for 30 is 4.745055223683026\n",
      "Average for 35 is 4.753915115498988\n",
      "Average for 40 is 4.76110129349571\n",
      "Average for 45 is 4.7692565589936615\n",
      "Average for 50 is 4.773505892811131\n",
      "Average for 55 is 4.778548414810252\n",
      "Average for 60 is 4.781219155538723\n",
      "Average for 65 is 4.7880544332589325\n",
      "Average for 70 is 4.788507800323512\n",
      "Average for 75 is 4.79196563707696\n",
      "Average for 80 is 4.791456328944617\n",
      "Average for 85 is 4.791673560301678\n",
      "Average for 90 is 4.794638614033673\n",
      "Average for 95 is 4.795340456376654\n",
      "Average for 100 is 4.794859419403418\n",
      "Average for 105 is 4.795093319439721\n",
      "Average for 110 is 4.793658229879451\n",
      "Average for 115 is 4.793419084875467\n",
      "Average for 120 is 4.795351044368264\n",
      "Average for 125 is 4.797131592872072\n",
      "Average for 130 is 4.797855714849278\n",
      "Average for 135 is 4.798181363583641\n",
      "Average for 140 is 4.799858857718751\n",
      "Average for 145 is 4.797750628381942\n",
      "Average for 150 is 4.798927943431428\n",
      "Average for 155 is 4.800889131146195\n",
      "Average for 160 is 4.8015375488792555\n",
      "Average for 165 is 4.80195490717471\n",
      "Average for 170 is 4.805156585913365\n",
      "Average for 175 is 4.803015663787354\n",
      "Average for 180 is 4.804336627884557\n",
      "Average for 185 is 4.804194512000361\n",
      "Average for 190 is 4.805800052470758\n",
      "Average for 195 is 4.809300047389147\n",
      "Average for 200 is 4.808397620108175\n"
     ]
    }
   ],
   "source": [
    "T=1\n",
    "r=0.03\n",
    "sigma=0.15\n",
    "K=100\n",
    "S0=100\n",
    "N=[10+i*5 for i in range(0,39)]\n",
    "M=100000\n",
    "k=[2,3,4]\n",
    "\n",
    "vals100=[]\n",
    "for t in N:\n",
    "    bs=[]\n",
    "    for b in k:\n",
    "        \n",
    "        lsm=LSM(T,r,sigma,K,S0,t,M,b)\n",
    "        vals100.append(lsm)\n",
    "        bs.append(lsm)\n",
    "    print(f\"Average for {t} is {np.mean(bs)}\")\n",
    "ans100=np.mean(vals100)"
   ]
  },
  {
   "cell_type": "code",
   "execution_count": 35,
   "id": "a17802b0-4403-44d8-b7d2-a655c685d08d",
   "metadata": {},
   "outputs": [
    {
     "data": {
      "image/png": "[encoded data removed]",
      "text/plain": [
       "<Figure size 640x480 with 1 Axes>"
      ]
     },
     "metadata": {},
     "output_type": "display_data"
    }
   ],
   "source": [
    "b=plt.hist(vals100)"
   ]
  },
  {
   "cell_type": "code",
   "execution_count": null,
   "id": "ba10dd5f-b7c1-4201-8d76-69ed6b21c2a4",
   "metadata": {},
   "outputs": [
    {
     "name": "stdout",
     "output_type": "stream",
     "text": [
      "Average for 10 is 1.7675281920690977\n",
      "Average for 15 is 1.786927153184929\n",
      "Average for 20 is 1.7979784194699888\n",
      "Average for 25 is 1.8046192064752489\n",
      "Average for 30 is 1.8099606677220577\n",
      "Average for 35 is 1.8132335803217885\n",
      "Average for 40 is 1.820040625619667\n",
      "Average for 45 is 1.8224242463665252\n",
      "Average for 50 is 1.8247082787471725\n",
      "Average for 55 is 1.8267361184301751\n",
      "Average for 60 is 1.8265170305167029\n",
      "Average for 65 is 1.8260285820762308\n",
      "Average for 70 is 1.828757983272858\n",
      "Average for 75 is 1.8288297775531952\n",
      "Average for 80 is 1.8287139289533194\n",
      "Average for 85 is 1.8289318668666301\n",
      "Average for 90 is 1.8307790203985144\n",
      "Average for 95 is 1.8315261188303715\n",
      "Average for 100 is 1.833919428582069\n",
      "Average for 105 is 1.8349090826681014\n",
      "Average for 110 is 1.8363427258129876\n",
      "Average for 115 is 1.8356114781353188\n",
      "Average for 120 is 1.837199718112001\n",
      "Average for 125 is 1.8371513911080541\n",
      "Average for 130 is 1.8360784782570703\n",
      "Average for 135 is 1.8358610440583396\n",
      "Average for 140 is 1.8365587634559473\n",
      "Average for 145 is 1.8369250632437162\n"
     ]
    }
   ],
   "source": [
    "T=1\n",
    "r=0.03\n",
    "sigma=0.15\n",
    "K=100\n",
    "S0=110\n",
    "N=[10+i*5 for i in range(0,39)]\n",
    "M=100000\n",
    "k=[2,3,4]\n",
    "\n",
    "vals110=[]\n",
    "for t in N:\n",
    "    bs=[]\n",
    "    for b in k:\n",
    "        \n",
    "        lsm=LSM(T,r,sigma,K,S0,t,M,b)\n",
    "        vals110.append(lsm)\n",
    "        bs.append(lsm)\n",
    "    print(f\"Average for {t} is {np.mean(bs)}\")\n",
    "ans110=np.mean(vals110)"
   ]
  },
  {
   "cell_type": "code",
   "execution_count": null,
   "id": "bffa2472-e87a-4b33-addc-0f32869207e0",
   "metadata": {},
   "outputs": [],
   "source": [
    "b=plt.hist(vals110)"
   ]
  },
  {
   "cell_type": "markdown",
   "id": "793acb37-c40b-4c9a-a809-a22ef859986f",
   "metadata": {},
   "source": [
    "### Notes\n",
    "- Cross Checking against Matlab code; identical seeds (random number generation)\n",
    "- Note Gustaffson samples from the normal distribution -> which is not the default implementation in numpy!!\n"
   ]
  }
 ],
 "metadata": {
  "kernelspec": {
   "display_name": "Python [conda env:research]",
   "language": "python",
   "name": "conda-env-research-py"
  },
  "language_info": {
   "codemirror_mode": {
    "name": "ipython",
    "version": 3
   },
   "file_extension": ".py",
   "mimetype": "text/x-python",
   "name": "python",
   "nbconvert_exporter": "python",
   "pygments_lexer": "ipython3",
   "version": "3.7.12"
  }
 },
 "nbformat": 4,
 "nbformat_minor": 5
}
